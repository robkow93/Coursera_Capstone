{
 "cells": [
  {
   "cell_type": "markdown",
   "metadata": {},
   "source": [
    "# Capstone Project - The Battle of the Neighborhoods - Part 1"
   ]
  },
  {
   "cell_type": "markdown",
   "metadata": {},
   "source": [
    "This document provides the details of my final peer reviewed assignment for the IBM Data Science Professional Certificate program – Coursera Capstone."
   ]
  },
  {
   "cell_type": "markdown",
   "metadata": {},
   "source": [
    "## Introduction: Business Problem of knowledge of neighborhood"
   ]
  },
  {
   "cell_type": "markdown",
   "metadata": {},
   "source": [
    "Everyone who wants to buy an apartment wonders in which district it would be best to live. The proximity of parks, interesting restaurants or sports halls make making decisions extremely difficult.\n",
    "\n",
    "\n",
    "Warsaw is the capital of Poland and the Masovian Voivodeship, the largest city of the country, located in its central-eastern part. It is currently divided into 18 districts, which are characterized by their interesting places. Adjacent to Śródmieście Mokotów is a district of Warsaw, which is largely considered a prestigious location. If you need to move a lot and have all service outlets and institutions at hand, and you are not afraid of the hustle and bustle of the city, it's best to live in the city center. Ursynów is a good choice for active people - both professionally and physically. Praga Południe is a district of Warsaw that apartment owners are more and more willing to choose. Old buildings from the times of the Polish People's Republic, which are a large part of Wola, may not encourage you to live in this part of the city, but it is here that the easiest way to find a place for which - given the possibility of reaching the center of the capital in a few or several minutes - we will pay really little. Ochota is currently the most densely populated district of Warsaw. Białołęka can be called a district of young people, because mainly young families are moving here. In addition to Białołęka, dynamic landscape changes also apply to the city of Wilanów, located on the opposite, southern side. Old Bielany with the characteristic Confederation Square awaits fans of quiet streets built up with small houses and villas. If you love to look into small cafes with an almost home-like atmosphere, you dream about frequent walks or runs in the park, and in addition you feel like a fish in the water among the streets inhabited by villas with small gardens, take your steps towards Stary Żoliborz. Bemowo, like Białołęka, is eagerly chosen by young people, especially families with young children. Targówek is still not one of the most-chosen districts, but most likely it will change soon, as - as in the case of Bemów - the construction of further stations of the second metro line is planned here. In terms of area, Wawer ranks first in the capital. Low real estate prices in Ursynów will certainly encourage those who are not afraid of a large distance from the city center and taking about half an hour by rail. Praga Północ could be described as a district with a soul - it was here that one of the oldest buildings in Warsaw, spared during World War II, was preserved, and here you can still hear the old Warsaw dialect, and the inhabitants are often more open and direct than busy Warsaw residents from Śródmieście. Rembertów is the least populated district of Warsaw, which can also boast of a wealth of green areas.\n",
    "\n",
    "\n",
    "The multitude of districts encourages them to be categorized and to identify homogeneous groups that will have common characteristics. <b>Let's do it!</b>"
   ]
  },
  {
   "cell_type": "markdown",
   "metadata": {},
   "source": [
    "## Data"
   ]
  },
  {
   "cell_type": "markdown",
   "metadata": {},
   "source": [
    "Based on definition of our problem, factors that will help to categorize Boroughs are:\n",
    "\n",
    "    All venues of neighborhood\n",
    "    Top venue categoeries in neighborhood\n",
    "    Basic statistics of the neighborhood like density etc.\n",
    "\n",
    "Following data sources will be needed to generate the required information:\n",
    "\n",
    "    Wikipedia page of Warsaw neighborhoods\n",
    "    All venues or neigborhood area through Foursqueare API\n",
    "    Geolocator to get coordinates of neighborhoods\n",
    "\n",
    "We will use the explore function to get the most common venue categories in each neighborhood of Warsaw. We will also cluster neighborhoods to give similarity information."
   ]
  }
 ],
 "metadata": {
  "kernelspec": {
   "display_name": "Python 3",
   "language": "python",
   "name": "python3"
  },
  "language_info": {
   "codemirror_mode": {
    "name": "ipython",
    "version": 3
   },
   "file_extension": ".py",
   "mimetype": "text/x-python",
   "name": "python",
   "nbconvert_exporter": "python",
   "pygments_lexer": "ipython3",
   "version": "3.7.4"
  }
 },
 "nbformat": 4,
 "nbformat_minor": 2
}
